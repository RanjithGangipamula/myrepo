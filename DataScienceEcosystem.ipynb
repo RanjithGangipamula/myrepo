{
 "cells": [
  {
   "cell_type": "markdown",
   "id": "5e41826b",
   "metadata": {},
   "source": [
    "# Data Science Tools and Ecosystem"
   ]
  },
  {
   "cell_type": "markdown",
   "id": "2753955d",
   "metadata": {},
   "source": [
    "\"In this notebook, Data Science Tools and Ecosystem are summarized.\""
   ]
  },
  {
   "cell_type": "markdown",
   "id": "d6eebb02",
   "metadata": {},
   "source": [
    "__Objectives:__\n",
    "\n",
    "* This course provided good understanding of what is data science all about.\n",
    "* Step by Step process on how and when the tools have to be used.\n",
    "* Well designed program."
   ]
  },
  {
   "cell_type": "markdown",
   "id": "9af20363",
   "metadata": {},
   "source": [
    "\"Some of the popular languages that Data Scientists use are:\"\n",
    "1. Python\n",
    "2. R\n",
    "3. SQL"
   ]
  },
  {
   "cell_type": "markdown",
   "id": "afe3810e",
   "metadata": {},
   "source": [
    "\"Some of the popular languages that Data Scientists use are:\"\n",
    "\n",
    "1.  Numpy\n",
    "2.  Pandas\n",
    "3.  Matplotlib\n",
    "4.  Seaborn\n",
    "5.  Scikit-Learn\n",
    "6.  TensorFlow\n",
    "7.  Keras\n",
    "8.  PyTorch\n",
    "9.  SciPy\n",
    "10. StatsModels"
   ]
  },
  {
   "cell_type": "markdown",
   "id": "8dfac539",
   "metadata": {},
   "source": [
    "###### Data Science Tools \n",
    "\n",
    "\n",
    "| Library         | Description                                                              |\n",
    "|:----------------| :------------------------------------------------------------------------|\n",
    "| Numpy           | Numerical computing library in Python.                                   |\n",
    "| Pandas          | Data Manipulation and analysis library.                                  |\n",
    "| Matplotlib      | Data visulization library in Python.                                     |\n",
    "| Seaborn         | Statistical data visualization based on Matplotlib.                      |\n",
    "| Scikit-learn    | Machine learning library for data mining and analysis.                   |\n",
    "| TensorFlow      | Open-source machine learning framework by Google                         |\n",
    "| Keras           | Neural network library written in Python.                                |\n",
    "| PyTorch         | Machine Learning framework developed by Facebook                         |\n",
    "| SciPy           | Library for scientific and technical                                     |\n",
    "| StatsModels     | Library for statisitical modeling and hypothesis                         |\n",
    "\n"
   ]
  },
  {
   "cell_type": "markdown",
   "id": "19434da9",
   "metadata": {},
   "source": [
    "### Below are a few examples of evaluating arithmetic expressions in Python"
   ]
  },
  {
   "cell_type": "code",
   "execution_count": 3,
   "id": "a6e2828b",
   "metadata": {},
   "outputs": [
    {
     "data": {
      "text/plain": [
       "17"
      ]
     },
     "execution_count": 3,
     "metadata": {},
     "output_type": "execute_result"
    }
   ],
   "source": [
    "# This a simple arithmetic expression to mutiply then add integers\n",
    "\n",
    "(3*4)+ 5"
   ]
  },
  {
   "cell_type": "code",
   "execution_count": 8,
   "id": "64dc39ed",
   "metadata": {},
   "outputs": [
    {
     "data": {
      "text/plain": [
       "3.3333333333333335"
      ]
     },
     "execution_count": 8,
     "metadata": {},
     "output_type": "execute_result"
    }
   ],
   "source": [
    "# This will convert 200 minutes to hours by diving by 60\n",
    "\n",
    "minutes = 200 \n",
    "hours = minutes/ 60\n",
    "hours"
   ]
  },
  {
   "cell_type": "markdown",
   "id": "64211860",
   "metadata": {},
   "source": [
    "## Author\n",
    "\n",
    "Ranjith Gangipamula"
   ]
  }
 ],
 "metadata": {
  "kernelspec": {
   "display_name": "Python 3 (ipykernel)",
   "language": "python",
   "name": "python3"
  },
  "language_info": {
   "codemirror_mode": {
    "name": "ipython",
    "version": 3
   },
   "file_extension": ".py",
   "mimetype": "text/x-python",
   "name": "python",
   "nbconvert_exporter": "python",
   "pygments_lexer": "ipython3",
   "version": "3.11.5"
  }
 },
 "nbformat": 4,
 "nbformat_minor": 5
}
